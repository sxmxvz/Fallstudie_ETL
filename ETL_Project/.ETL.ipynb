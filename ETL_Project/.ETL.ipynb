{
 "cells": [
  {
   "cell_type": "code",
   "execution_count": 1,
   "metadata": {},
   "outputs": [],
   "source": [
    "import pandas as pd\n",
    "import mysql\n",
    "import mysql.connector\n",
    "import csv\n"
   ]
  },
  {
   "cell_type": "code",
   "execution_count": 2,
   "metadata": {},
   "outputs": [],
   "source": [
    "def mitarbeiter_func():\n",
    "    #Import Mitarbeiter Tabelle\n",
    "    mitarbeiter = pd.read_excel('mitarbeiter.xlsx') \n",
    "\n",
    "    #Spaltung Ort und PLZ\n",
    "    mitarbeiter.insert(3,\"PLZ\", mitarbeiter.Ort.str.split(\" \").str[0].tolist())\n",
    "    mitarbeiter[\"Ort\"] = mitarbeiter.Ort.str.split(\" \").str[1].tolist()\n",
    "\n",
    "    #Abteilung in AbteilungsNR tauschen\n",
    "    mitarbeiter.loc[mitarbeiter[\"Abteilung\"] == \"IT\",\"Abteilung\"] = 2\n",
    "    mitarbeiter.loc[mitarbeiter[\"Abteilung\"] == \"Consulting\",\"Abteilung\"] = 4\n",
    "    mitarbeiter.loc[mitarbeiter[\"Abteilung\"] == \"Sales\",\"Abteilung\"] = 0\n",
    "    mitarbeiter.loc[mitarbeiter[\"Abteilung\"] == \"Marketing\",\"Abteilung\"] = 3\n",
    "    mitarbeiter.loc[mitarbeiter[\"Abteilung\"] == \"Controlling\",\"Abteilung\"] = 1\n",
    "   \n",
    "    #Spaltung in Vorname und Name\n",
    "    mitarbeiter.insert(1,\"Vorname\", mitarbeiter.Name.str.split(\" \").str[0].tolist())\n",
    "    mitarbeiter[\"Name\"] = mitarbeiter.Name.str.split(\" \").str[1].tolist()\n",
    "\n",
    "    #Typanpassung\n",
    "    mitarbeiter.infer_objects()\n",
    "\n",
    "    #Export der Datei\n",
    "    mitarbeiter_csv_data = mitarbeiter.to_csv('ETL Daten/mitarbeiter_etl.csv', header=False, index=False) "
   ]
  },
  {
   "cell_type": "code",
   "execution_count": 3,
   "metadata": {},
   "outputs": [],
   "source": [
    "def projekt_func():\n",
    "    #Import Projekt Tabelle\n",
    "    projekt = pd.read_excel('projekt.xlsx') \n",
    "    #Import Mitarbeiter Tabelle\n",
    "    mitarbeiter = pd.read_excel('mitarbeiter.xlsx') \n",
    "\n",
    "    #Projektleiter Fremdschlüssel hinzufügen\n",
    "    for i in range(len(projekt)):\n",
    "        for j in range(len(mitarbeiter)):\n",
    "            if projekt[\"Leiter\"][i] == (mitarbeiter[\"Name\"][j]):\n",
    "                projekt[\"Leiter\"][i] = mitarbeiter[\"PerNR\"][j]\n",
    "                break\n",
    "    \n",
    "    #Typanpassung\n",
    "    projekt.infer_objects()\n",
    "                \n",
    "    #Export der Datei\n",
    "    projekt_csv_data = projekt.to_csv('ETL Daten/projekt_etl.csv', header=False, index=False) "
   ]
  },
  {
   "cell_type": "code",
   "execution_count": 4,
   "metadata": {},
   "outputs": [],
   "source": [
    "def abteilung_func():\n",
    "    #Import Abteilung Tabelle\n",
    "    abteilung = pd.read_excel('Abteilung.xlsx') \n",
    "    #Import Mitarbeiter Tabelle\n",
    "    mitarbeiter = pd.read_excel('mitarbeiter.xlsx') \n",
    "\n",
    "    #Abteilungsleiter Fremdschlüssel hinzufügen\n",
    "    for i in range(len(abteilung)):\n",
    "        for j in range(len(mitarbeiter)):\n",
    "            if abteilung[\"Abteilungsleiter\"][i] == (mitarbeiter[\"Name\"][j]):\n",
    "                abteilung[\"Abteilungsleiter\"][i] = mitarbeiter[\"PerNR\"][j]\n",
    "    \n",
    "    #Typanpassung\n",
    "    abteilung.infer_objects()\n",
    "\n",
    "    #Export der Datei\n",
    "    abteilung_csv_data = abteilung.to_csv('ETL Daten/Abteilung_etl.csv', header=False, index=False) "
   ]
  },
  {
   "cell_type": "code",
   "execution_count": 5,
   "metadata": {},
   "outputs": [],
   "source": [
    "def projektzeiten_func():\n",
    "    #Import Projektzeiten Tabelle\n",
    "    projektzeiten = pd.read_excel('projektzeiten.xlsx')\n",
    "    #Import Mitarbeiter Tabelle\n",
    "    mitarbeiter = pd.read_excel('mitarbeiter.xlsx') \n",
    "\n",
    "    #Abteilungsleiter Fremdschlüssel hinzufügen\n",
    "    for i in range(len(projektzeiten)):\n",
    "        for j in range(len(mitarbeiter)):\n",
    "            if projektzeiten[\"Mitarbeiter\"][i] == (mitarbeiter[\"Name\"][j]):\n",
    "                projektzeiten[\"Mitarbeiter\"][i] = mitarbeiter[\"PerNR\"][j]\n",
    "                break\n",
    "    \n",
    "    #Typanpassung\n",
    "    projektzeiten.infer_objects()\n",
    "\n",
    "    #Export der Datei\n",
    "    projektzeiten_csv_data = projektzeiten.to_csv('ETL Daten/projektzeiten_etl.csv', header=False, index=False) "
   ]
  },
  {
   "cell_type": "code",
   "execution_count": 6,
   "metadata": {},
   "outputs": [
    {
     "name": "stderr",
     "output_type": "stream",
     "text": [
      "<ipython-input-3-d305f974073e>:11: SettingWithCopyWarning: \n",
      "A value is trying to be set on a copy of a slice from a DataFrame\n",
      "\n",
      "See the caveats in the documentation: https://pandas.pydata.org/pandas-docs/stable/user_guide/indexing.html#returning-a-view-versus-a-copy\n",
      "  projekt[\"Leiter\"][i] = mitarbeiter[\"PerNR\"][j]\n"
     ]
    }
   ],
   "source": [
    "\n",
    "mitarbeiter_func()\n",
    "projekt_func()\n",
    "abteilung_func()\n",
    "projektzeiten_func()\n"
   ]
  },
  {
   "cell_type": "code",
   "execution_count": 7,
   "metadata": {},
   "outputs": [],
   "source": [
    "mydb = mysql.connector.connect(host = \"127.0.0.1\", user = \"root\", passwd = \"\", db = \"\")"
   ]
  },
  {
   "cell_type": "code",
   "execution_count": 8,
   "metadata": {},
   "outputs": [
    {
     "data": {
      "text/plain": [
       "True"
      ]
     },
     "execution_count": 8,
     "metadata": {},
     "output_type": "execute_result"
    }
   ],
   "source": [
    "\n",
    "cursor = mydb.cursor()\n",
    "cursor.execute(\"SET @OLD_UNIQUE_CHECKS=@@UNIQUE_CHECKS, UNIQUE_CHECKS=0\")\n",
    "\n",
    "cursor.execute(\"SET @OLD_FOREIGN_KEY_CHECKS=@@FOREIGN_KEY_CHECKS, FOREIGN_KEY_CHECKS=0\")\n",
    "cursor.execute(\"SET @OLD_SQL_MODE=@@SQL_MODE, SQL_MODE='ONLY_FULL_GROUP_BY,STRICT_TRANS_TABLES,NO_ZERO_IN_DATE,NO_ZERO_DATE,ERROR_FOR_DIVISION_BY_ZERO,NO_ENGINE_SUBSTITUTION'\")\n",
    "\n",
    "cursor.execute(\"DROP SCHEMA IF EXISTS `Firma` \")\n",
    "cursor.execute(\"CREATE SCHEMA IF NOT EXISTS `Firma` DEFAULT CHARACTER SET utf8 \")\n",
    "cursor.execute(\"USE `Firma` \")\n",
    "\n",
    "cursor.execute(\"DROP TABLE IF EXISTS `Firma`.`Abteilung` \")\n",
    "cursor.execute(\"CREATE TABLE IF NOT EXISTS `Firma`.`Abteilung` ( `AbtNR` INT ZEROFILL UNSIGNED NOT NULL, `Bezeichnung` VARCHAR(45) NOT NULL, `Abteilungsleiter` INT ZEROFILL UNSIGNED NULL, `Etat` FLOAT(10,2) NOT NULL, PRIMARY KEY (`AbtNR`), UNIQUE INDEX `Bezeichnung_UNIQUE` (`Bezeichnung` ASC), UNIQUE INDEX `Abteilungsleiter_UNIQUE` (`Abteilungsleiter` ASC) ) ENGINE = InnoDB\")\n",
    "\n",
    "cursor.execute(\"DROP TABLE IF EXISTS `Firma`.`Mitarbeiter` \")\n",
    "cursor.execute(\"CREATE TABLE IF NOT EXISTS `Firma`.`Mitarbeiter` ( `PerNR` INT UNSIGNED ZEROFILL NOT NULL, `Name` VARCHAR(45) NOT NULL, `Vorname` VARCHAR(45) NOT NULL, `Strasse` VARCHAR(45) NOT NULL, `PLZ` INT(5) NOT NULL, `Ort` VARCHAR(45) NOT NULL, `Telefon` INT NOT NULL, `Abteilung` INT NOT NULL, `Geschlecht` ENUM('m', 'w') NOT NULL, `eingestellt` DATE NOT NULL, `KFZ1` VARCHAR(10) NULL, `KFZ2` VARCHAR(10) NULL, PRIMARY KEY (`PerNR`)) ENGINE = InnoDB \")\n",
    "\n",
    "cursor.execute(\"DROP TABLE IF EXISTS `Firma`.`Projekt` \")\n",
    "cursor.execute(\"CREATE TABLE IF NOT EXISTS `Firma`.`Projekt` ( `ProNR` INT NOT NULL, `Bezeichnung` VARCHAR(45) NOT NULL, `Start` DATE NOT NULL, `Ende` DATE NULL, `Auftragswert` FLOAT(12,2) NOT NULL, `bezahlt` FLOAT(12,2) NULL, `Leiter` INT NOT NULL, PRIMARY KEY (`ProNR`)) ENGINE = InnoDB \")\n",
    "\n",
    "cursor.execute(\"DROP TABLE IF EXISTS `Firma`.`ProjektMitarbeiter` \")\n",
    "cursor.execute(\"CREATE TABLE IF NOT EXISTS `Firma`.`ProjektMitarbeiter` (`Projekt_ProNR` INT NOT NULL, `Mitarbeiter_PerNR` INT NOT NULL, `Zeitanteil` FLOAT(10,1) NOT NULL, PRIMARY KEY (`Projekt_ProNR`, `Mitarbeiter_PerNR`)) ENGINE = InnoDB\")\n",
    "\n",
    "cursor.execute(\"SET SQL_MODE=@OLD_SQL_MODE\")\n",
    "cursor.execute(\"SET FOREIGN_KEY_CHECKS=@OLD_FOREIGN_KEY_CHECKS\")\n",
    "cursor.execute(\"SET UNIQUE_CHECKS=@OLD_UNIQUE_CHECKS\")\n",
    "\n",
    "cursor.close()"
   ]
  },
  {
   "cell_type": "code",
   "execution_count": 9,
   "metadata": {},
   "outputs": [
    {
     "data": {
      "text/plain": [
       "True"
      ]
     },
     "execution_count": 9,
     "metadata": {},
     "output_type": "execute_result"
    }
   ],
   "source": [
    "cursor = mydb.cursor()\n",
    "cursor.execute(\"Use Firma\")\n",
    "cursor.execute(\"LOAD DATA INFILE 'ETL_Project/ETL Daten/mitarbeiter_etl.csv' INTO TABLE mitarbeiter  FIELDS TERMINATED BY ','\")\n",
    "cursor.execute(\"LOAD DATA INFILE 'ETL_Project/ETL Daten/Abteilung_etl.csv' INTO TABLE abteilung  FIELDS TERMINATED BY ','\")\n",
    "cursor.execute(\"LOAD DATA INFILE 'ETL_Project/ETL Daten/projekt_etl.csv' INTO TABLE projekt  FIELDS TERMINATED BY ','\")\n",
    "cursor.execute(\"LOAD DATA INFILE 'ETL_Project/ETL Daten/projektzeiten_etl.csv' INTO TABLE projektmitarbeiter  FIELDS TERMINATED BY ','\")\n",
    "\n",
    "cursor.close()"
   ]
  },
  {
   "cell_type": "code",
   "execution_count": 10,
   "metadata": {},
   "outputs": [],
   "source": [
    "mydb.commit()\n",
    "mydb.close()"
   ]
  }
 ],
 "metadata": {
  "interpreter": {
   "hash": "0035496c39ea2fb0d17c839d04e59c99422c559ae99ea807cb11c6c1759a0eec"
  },
  "kernelspec": {
   "display_name": "Python 3.8.3 64-bit ('base': conda)",
   "language": "python",
   "name": "python3"
  },
  "language_info": {
   "codemirror_mode": {
    "name": "ipython",
    "version": 3
   },
   "file_extension": ".py",
   "mimetype": "text/x-python",
   "name": "python",
   "nbconvert_exporter": "python",
   "pygments_lexer": "ipython3",
   "version": "3.8.10"
  }
 },
 "nbformat": 4,
 "nbformat_minor": 4
}
